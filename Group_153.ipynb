{
 "cells": [
  {
   "cell_type": "code",
   "execution_count": 0,
   "metadata": {
    "colab": {},
    "colab_type": "code",
    "id": "S6GgFqcsbfPB"
   },
   "outputs": [],
   "source": [
    "import keras\n",
    "import numpy as np \n",
    "import os\n",
    "from PIL import Image\n",
    "import random\n",
    "import imageio\n",
    "from keras.preprocessing import sequence\n",
    "from google.colab import drive\n",
    "import matplotlib.pyplot as plt\n",
    "from keras import backend as K"
   ]
  },
  {
   "cell_type": "code",
   "execution_count": 0,
   "metadata": {
    "colab": {},
    "colab_type": "code",
    "id": "WwXnz2Z1SYTQ"
   },
   "outputs": [],
   "source": [
    "'''\n",
    "This function does one-hot encoding of input images based on emotion (7 classes)\n",
    "Sixth character of each file name corresponds to one of the seven emotions\n",
    "'''\n",
    "def label_image(name):\n",
    "  letter = name[5] \n",
    "\n",
    "  if letter == 'W':\n",
    "    return np.array([1,0,0,0,0,0,0])\n",
    "\n",
    "  elif letter == 'L':\n",
    "    return np.array([0,1,0,0,0,0,0])\n",
    "\n",
    "  elif letter == 'E':\n",
    "    return np.array([0,0,1,0,0,0,0])\n",
    "\n",
    "  elif letter == 'A':\n",
    "    return np.array([0,0,0,1,0,0,0])\n",
    "\n",
    "  elif letter == 'F':\n",
    "    return np.array([0,0,0,0,1,0,0])\n",
    "\n",
    "  elif letter == 'T':\n",
    "    return np.array([0,0,0,0,0,1,0])\n",
    "\n",
    "  else:\n",
    "    return np.array([0,0,0,0,0,0,1])\n",
    "    "
   ]
  },
  {
   "cell_type": "code",
   "execution_count": 0,
   "metadata": {
    "colab": {},
    "colab_type": "code",
    "id": "JIZaK0QCRctq"
   },
   "outputs": [],
   "source": [
    "'''\n",
    "The three different file paths are for three different parameters used for classification: Amplitude, Group Delay and Amplitude + Group Delay respectively.\n",
    "Uncomment the appropriate line to run the network for the required input data\n",
    "'''\n",
    "drive.mount('/content/drive')\n",
    "#DIR = '/content/drive/My Drive/Amplitude'\n",
    "#DIR = '/content/drive/My Drive/Group_Delay'\n",
    "#DIR = '/content/drive/My Drive/Amp_GPdelay'\n",
    "\n",
    "\n"
   ]
  },
  {
   "cell_type": "code",
   "execution_count": 0,
   "metadata": {
    "colab": {},
    "colab_type": "code",
    "id": "3mwd8CqUCslc"
   },
   "outputs": [],
   "source": [
    "'''\n",
    "This function splits input of 535 images randomly into nearly 70:30 of training:testing data\n",
    "\n",
    "'''\n",
    "def train_test_split():                   # returns the splitted output and input data set with labelling \n",
    "  test_data = []\n",
    "  train_data = []\n",
    "  image_train = []\n",
    "  labelled_train = []\n",
    "  image_test = []\n",
    "  labelled_test = []\n",
    "\n",
    "  for img in os.listdir(DIR):\n",
    "    label = label_image(img)              # returns a output class for each trainin image \n",
    "    path = os.path.join(DIR,img)\n",
    "    img = Image.open(path)\n",
    "\n",
    "    a = random.random()\n",
    "    if a<=0.7:                            # 70:30 split between train and test \n",
    "      image_train.append(np.array(img))\n",
    "      labelled_train.append(label)\n",
    "    else:\n",
    "      image_test.append(np.array(img))\n",
    "      labelled_test.append(label)\n",
    "\n",
    "    \n",
    "  train_data.append(image_train)\n",
    "  train_data.append(labelled_train)\n",
    "  test_data.append(image_test)\n",
    "  test_data.append(labelled_test)         # test data has 2 arrays, one for test images and the other one having correspoding output vector \n",
    "\n",
    "  return [train_data,test_data]\n",
    "\n"
   ]
  },
  {
   "cell_type": "code",
   "execution_count": 0,
   "metadata": {
    "colab": {},
    "colab_type": "code",
    "id": "0ddMwU_FuUyI"
   },
   "outputs": [],
   "source": [
    "'''\n",
    "Loading train and test data\n",
    "'''\n",
    "[train,test] = train_test_split()\n"
   ]
  },
  {
   "cell_type": "code",
   "execution_count": 0,
   "metadata": {
    "colab": {},
    "colab_type": "code",
    "id": "K1-wnX-mgoOx"
   },
   "outputs": [],
   "source": [
    "'''\n",
    "Unpacking of loaded data into lists_for giving input to network\n",
    "'''\n",
    "\n",
    "trainimages = np.array(train[0])\n",
    "trainlabels = np.array(train[1])\n",
    "\n",
    "testimages = np.array(test[0])\n",
    "testlabels = np.array(test[1])\n"
   ]
  },
  {
   "cell_type": "code",
   "execution_count": 0,
   "metadata": {
    "colab": {},
    "colab_type": "code",
    "id": "psmAww84jYC_"
   },
   "outputs": [],
   "source": [
    "'''\n",
    "Custom functions to calculate recall, precision, F1_score\n",
    "'''\n",
    "def recall(y_true, y_pred):\n",
    "  true_positives = K.sum(K.round(K.clip(y_true * y_pred, 0, 1)))\n",
    "  possible_positives = K.sum(K.round(K.clip(y_true, 0, 1)))\n",
    "  recall = true_positives / (possible_positives + K.epsilon())\n",
    "  return recall\n",
    "\n",
    "def precision(y_true, y_pred):\n",
    "  true_positives = K.sum(K.round(K.clip(y_true * y_pred, 0, 1)))\n",
    "  predicted_positives = K.sum(K.round(K.clip(y_pred, 0, 1)))\n",
    "  precision = true_positives / (predicted_positives + K.epsilon())\n",
    "  return precision\n",
    "\n",
    "def f1_score(y_true, y_pred):\n",
    "  p = precision(y_true, y_pred)\n",
    "  r = recall(y_true, y_pred)\n",
    "  score = (2*p*r)/(p+r + K.epsilon())\n",
    "  return score \n"
   ]
  },
  {
   "cell_type": "code",
   "execution_count": 0,
   "metadata": {
    "colab": {},
    "colab_type": "code",
    "id": "tfLdhVW1biC3"
   },
   "outputs": [],
   "source": [
    "'''\n",
    "Network Model\n",
    "\n",
    "'''\n",
    "import numpy as np\n",
    "from keras.layers import Activation, Dense, Conv2D, Flatten, MaxPool2D, LSTM, Bidirectional, Dropout, BatchNormalization, Reshape\n",
    "from keras.models import Sequential\n",
    "\n",
    "model = Sequential() \n",
    "\n",
    "\n",
    "model.add(Conv2D(32, (5,5) ,padding='same',input_shape = (656, 875, 3), activation = 'relu'))\n",
    "model.add(BatchNormalization(axis=-1))  \n",
    "model.add(MaxPool2D(pool_size = 2, strides = 2, padding = 'valid'))\n",
    "\n",
    "model.add(Conv2D(64, (5,5) , padding='same', activation = 'relu'))\n",
    "model.add(BatchNormalization(axis=-1))\n",
    "model.add(MaxPool2D(pool_size = 2, strides = 2, padding = 'valid'))\n",
    "#Reduce third dimension and flatten 3d matrix to 2d matrix with time and frequency axis \n",
    "model.add(Conv2D(1, (1,1) , padding='same', activation = 'linear'))  \n",
    "model.add(BatchNormalization(axis=-1))\n",
    "\n",
    "#flatten 2d matrix to 1d array of time distributed sequence\n",
    "model.add(Flatten())   \n",
    "print(model.output_shape)\n",
    "\n",
    "model.add(Dropout(0.5))\n",
    "\n",
    "#fully connected layer\n",
    "model.add(Dense(50, activation = 'relu'))\n",
    "#print(model.output_shape)\n",
    "model.add(Reshape((50,1)))\n",
    "#print(model.output_shape)\n",
    "\n",
    "#BLSTM\n",
    "model.add(Bidirectional(LSTM(200, input_shape = (50,1), return_sequences=False), merge_mode = \"concat\"))\n",
    "\n",
    "model.add(Dense(7,activation = 'softmax'))\n",
    "print(model.summary())\n",
    "#print(model.output_shape)"
   ]
  },
  {
   "cell_type": "code",
   "execution_count": 0,
   "metadata": {
    "colab": {},
    "colab_type": "code",
    "id": "9LjXktx3SkG6"
   },
   "outputs": [],
   "source": [
    "'''\n",
    "Compiling and training and validating model\n",
    "'''\n",
    "model.compile('adam', loss = 'binary_crossentropy', metrics=['accuracy',precision,recall, f1_score])  \n",
    "model.fit(trainimages, trainlabels, batch_size=50, epochs=10, validation_data=[testimages, testlabels])\n",
    "\n"
   ]
  },
  {
   "cell_type": "code",
   "execution_count": 0,
   "metadata": {
    "colab": {},
    "colab_type": "code",
    "id": "5T34GsmuMX4U"
   },
   "outputs": [],
   "source": [
    "'''\n",
    "Evaluate the model\n",
    "'''\n",
    "loss, acc, prec, rec, f1 = model.evaluate(testimages, testlabels, verbose=0)"
   ]
  }
 ],
 "metadata": {
  "accelerator": "GPU",
  "colab": {
   "collapsed_sections": [],
   "machine_shape": "hm",
   "name": "NNFL_project_group_delay.ipynb",
   "provenance": []
  },
  "kernelspec": {
   "display_name": "Python 3",
   "language": "python",
   "name": "python3"
  },
  "language_info": {
   "codemirror_mode": {
    "name": "ipython",
    "version": 3
   },
   "file_extension": ".py",
   "mimetype": "text/x-python",
   "name": "python",
   "nbconvert_exporter": "python",
   "pygments_lexer": "ipython3",
   "version": "3.7.3"
  }
 },
 "nbformat": 4,
 "nbformat_minor": 1
}
